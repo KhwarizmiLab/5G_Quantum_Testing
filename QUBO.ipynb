{
  "nbformat": 4,
  "nbformat_minor": 0,
  "metadata": {
    "colab": {
      "provenance": []
    },
    "kernelspec": {
      "name": "python3",
      "display_name": "Python 3"
    },
    "language_info": {
      "name": "python"
    }
  },
  "cells": [
    {
      "cell_type": "code",
      "execution_count": null,
      "metadata": {
        "id": "LBGYgdJ6FC-i",
        "colab": {
          "base_uri": "https://localhost:8080/"
        },
        "outputId": "8f54ce5c-5038-4223-b08c-72b3f7e4ad9c"
      },
      "outputs": [
        {
          "output_type": "stream",
          "name": "stdout",
          "text": [
            "Collecting pyqubo\n",
            "  Downloading pyqubo-1.4.0-cp310-cp310-manylinux_2_17_x86_64.manylinux2014_x86_64.whl (245 kB)\n",
            "\u001b[?25l     \u001b[90m━━━━━━━━━━━━━━━━━━━━━━━━━━━━━━━━━━━━━━━━\u001b[0m \u001b[32m0.0/245.3 kB\u001b[0m \u001b[31m?\u001b[0m eta \u001b[36m-:--:--\u001b[0m\r\u001b[2K     \u001b[91m━━━━━━━━━━━\u001b[0m\u001b[91m╸\u001b[0m\u001b[90m━━━━━━━━━━━━━━━━━━━━━━━━━━━━\u001b[0m \u001b[32m71.7/245.3 kB\u001b[0m \u001b[31m2.0 MB/s\u001b[0m eta \u001b[36m0:00:01\u001b[0m\r\u001b[2K     \u001b[91m━━━━━━━━━━━━━━━━━━━━━━━━━━━━━━━━━━━━━━\u001b[0m\u001b[90m╺\u001b[0m\u001b[90m━\u001b[0m \u001b[32m235.5/245.3 kB\u001b[0m \u001b[31m3.4 MB/s\u001b[0m eta \u001b[36m0:00:01\u001b[0m\r\u001b[2K     \u001b[90m━━━━━━━━━━━━━━━━━━━━━━━━━━━━━━━━━━━━━━━━\u001b[0m \u001b[32m245.3/245.3 kB\u001b[0m \u001b[31m2.9 MB/s\u001b[0m eta \u001b[36m0:00:00\u001b[0m\n",
            "\u001b[?25hRequirement already satisfied: numpy>=1.17.3 in /usr/local/lib/python3.10/dist-packages (from pyqubo) (1.23.5)\n",
            "Collecting dimod<0.13,>=0.9.14 (from pyqubo)\n",
            "  Downloading dimod-0.12.14-cp310-cp310-manylinux_2_17_x86_64.manylinux2014_x86_64.whl (18.7 MB)\n",
            "\u001b[2K     \u001b[90m━━━━━━━━━━━━━━━━━━━━━━━━━━━━━━━━━━━━━━━━\u001b[0m \u001b[32m18.7/18.7 MB\u001b[0m \u001b[31m25.0 MB/s\u001b[0m eta \u001b[36m0:00:00\u001b[0m\n",
            "\u001b[?25hCollecting dwave-neal>=0.5.7 (from pyqubo)\n",
            "  Downloading dwave_neal-0.6.0-py3-none-any.whl (8.7 kB)\n",
            "Collecting Deprecated>=1.2.12 (from pyqubo)\n",
            "  Downloading Deprecated-1.2.14-py2.py3-none-any.whl (9.6 kB)\n",
            "Requirement already satisfied: six>=1.15.0 in /usr/local/lib/python3.10/dist-packages (from pyqubo) (1.16.0)\n",
            "Requirement already satisfied: wrapt<2,>=1.10 in /usr/local/lib/python3.10/dist-packages (from Deprecated>=1.2.12->pyqubo) (1.14.1)\n",
            "Collecting dwave-samplers<2.0.0,>=1.0.0 (from dwave-neal>=0.5.7->pyqubo)\n",
            "  Downloading dwave_samplers-1.2.0-cp310-cp310-manylinux_2_17_x86_64.manylinux2014_x86_64.whl (6.7 MB)\n",
            "\u001b[2K     \u001b[90m━━━━━━━━━━━━━━━━━━━━━━━━━━━━━━━━━━━━━━━━\u001b[0m \u001b[32m6.7/6.7 MB\u001b[0m \u001b[31m44.0 MB/s\u001b[0m eta \u001b[36m0:00:00\u001b[0m\n",
            "\u001b[?25hRequirement already satisfied: networkx>=2.4.0 in /usr/local/lib/python3.10/dist-packages (from dwave-samplers<2.0.0,>=1.0.0->dwave-neal>=0.5.7->pyqubo) (3.2.1)\n",
            "Installing collected packages: dimod, Deprecated, dwave-samplers, dwave-neal, pyqubo\n",
            "Successfully installed Deprecated-1.2.14 dimod-0.12.14 dwave-neal-0.6.0 dwave-samplers-1.2.0 pyqubo-1.4.0\n"
          ]
        }
      ],
      "source": [
        "pip install pyqubo"
      ]
    },
    {
      "cell_type": "code",
      "source": [
        "pip install dwave.system"
      ],
      "metadata": {
        "id": "RKXhL1xTh771"
      },
      "execution_count": null,
      "outputs": []
    },
    {
      "cell_type": "code",
      "source": [
        "pip install timeout_decorator"
      ],
      "metadata": {
        "id": "m8XZQy1Jh-ZZ"
      },
      "execution_count": null,
      "outputs": []
    },
    {
      "cell_type": "code",
      "source": [
        "pip install memory_profiler"
      ],
      "metadata": {
        "id": "1_wzyYkXiBf2"
      },
      "execution_count": null,
      "outputs": []
    },
    {
      "cell_type": "code",
      "source": [
        "pip install python-tsp"
      ],
      "metadata": {
        "id": "e0t7hpffUzIm"
      },
      "execution_count": null,
      "outputs": []
    },
    {
      "cell_type": "code",
      "source": [
        "## Each variable in the hamiltonian is a test case. and the chain of test cases is the product of those variables"
      ],
      "metadata": {
        "id": "5RR87yMc57vz"
      },
      "execution_count": null,
      "outputs": []
    },
    {
      "cell_type": "markdown",
      "source": [
        "Setting up QUBO"
      ],
      "metadata": {
        "id": "tX7So6meG9EP"
      }
    },
    {
      "cell_type": "code",
      "source": [
        "## First example.\n",
        "\n",
        "from pyqubo import Spin\n",
        "s1, s2 = Spin(\"s1\"), Spin(\"s2\")\n",
        "H_test = 1*s1*s1 + 2*s1*s2 + 10*s2*s2"
      ],
      "metadata": {
        "id": "pHyaYmUaT29I"
      },
      "execution_count": null,
      "outputs": []
    },
    {
      "cell_type": "code",
      "source": [
        "print(H_test)"
      ],
      "metadata": {
        "colab": {
          "base_uri": "https://localhost:8080/"
        },
        "id": "_tWlki96sFli",
        "outputId": "a70bace2-ac20-4e5b-ac81-fc33bcbe4eac"
      },
      "execution_count": null,
      "outputs": [
        {
          "output_type": "stream",
          "name": "stdout",
          "text": [
            "(((10.000000 * Spin('s2')) * Spin('s2')) + ((1.000000 * Spin('s1')) * Spin('s1')) + ((2.000000 * Spin('s1')) * Spin('s2')))\n"
          ]
        }
      ]
    },
    {
      "cell_type": "code",
      "source": [
        "from pyqubo import Binary\n",
        "model = H_test.compile()\n",
        "bqm = model.to_bqm()"
      ],
      "metadata": {
        "id": "JBEE47_q4_-o"
      },
      "execution_count": null,
      "outputs": []
    },
    {
      "cell_type": "code",
      "source": [
        "import neal\n",
        "for i in range(0,10):\n",
        "  sa = neal.SimulatedAnnealingSampler()\n",
        "  sampleset = sa.sample(bqm, num_reads=10)\n",
        "  decoded_samples = model.decode_sampleset(sampleset)\n",
        "  best_sample = min(decoded_samples, key=lambda x: x.energy)\n",
        "  print(best_sample.sample)"
      ],
      "metadata": {
        "colab": {
          "base_uri": "https://localhost:8080/"
        },
        "outputId": "d3d1c793-35ae-4e4e-a531-2a8213cbd693",
        "id": "-vXW1ObL5DwU"
      },
      "execution_count": null,
      "outputs": [
        {
          "output_type": "stream",
          "name": "stdout",
          "text": [
            "{'s2': 1, 's1': 0}\n",
            "{'s2': 1, 's1': 0}\n",
            "{'s2': 1, 's1': 0}\n",
            "{'s2': 1, 's1': 0}\n",
            "{'s2': 1, 's1': 0}\n",
            "{'s2': 1, 's1': 0}\n",
            "{'s2': 1, 's1': 0}\n",
            "{'s2': 1, 's1': 0}\n",
            "{'s2': 1, 's1': 0}\n",
            "{'s2': 1, 's1': 0}\n"
          ]
        }
      ]
    },
    {
      "cell_type": "code",
      "source": [
        "## Define Arrays to store hamiltonian and results\n",
        "\n",
        "model = []\n",
        "H = []\n",
        "qubo = []\n",
        "offset = []"
      ],
      "metadata": {
        "id": "g7_jZ0S_m1sl"
      },
      "execution_count": null,
      "outputs": []
    },
    {
      "cell_type": "code",
      "source": [
        "a = (i**2+2)\n",
        "b = (i**3+1)\n",
        "c = i"
      ],
      "metadata": {
        "id": "gCPt0pYDm1z-"
      },
      "execution_count": null,
      "outputs": []
    },
    {
      "cell_type": "code",
      "source": [
        "for i in range(0,100):\n",
        "  hamiltonian = ((i**2+2)*s1 + (i**3+1)*s2 + i*s3 + s4)**2\n",
        "  H.append(hamiltonian)\n",
        "  #model_compile = hamiltonian.compile()\n",
        "  #model.append(model_compile)\n",
        "  print('hamiltonian = '+ str(hamiltonian))"
      ],
      "metadata": {
        "id": "VMHSJiU6UAQL"
      },
      "execution_count": null,
      "outputs": []
    },
    {
      "cell_type": "code",
      "source": [
        "for i in range(0,len(H)):\n",
        "  model_compile = H[i].compile()\n",
        "  qubo.append(model_compile.to_qubo()[0])\n",
        "  offset.append(model_compile.to_qubo()[1])"
      ],
      "metadata": {
        "id": "igxXJF9UUGjl"
      },
      "execution_count": null,
      "outputs": []
    },
    {
      "cell_type": "code",
      "source": [
        "print(len(qubo))"
      ],
      "metadata": {
        "colab": {
          "base_uri": "https://localhost:8080/"
        },
        "id": "cAK5_HnMsdTX",
        "outputId": "4bd6a0f1-8148-4ae6-8923-49af5e3df35f"
      },
      "execution_count": null,
      "outputs": [
        {
          "output_type": "stream",
          "name": "stdout",
          "text": [
            "100\n"
          ]
        }
      ]
    },
    {
      "cell_type": "code",
      "source": [
        "for i in range(0,len(qubo)):\n",
        "  print(qubo[i]) # doctest: +SKIP"
      ],
      "metadata": {
        "id": "hz2AoT-cUHXH"
      },
      "execution_count": null,
      "outputs": []
    },
    {
      "cell_type": "markdown",
      "source": [
        "Solving QUBO"
      ],
      "metadata": {
        "id": "y0HUvNLbG5lI"
      }
    },
    {
      "cell_type": "code",
      "source": [
        "from pyqubo import Binary\n",
        "x1, x2, x3, x4, x5 = Binary('x1'), Binary('x2'), Binary('x3'), Binary('x4'), Binary('x5')\n",
        "model = H_test.compile()\n",
        "bqm = model.to_bqm()"
      ],
      "metadata": {
        "id": "B_iQrLwYUMo5"
      },
      "execution_count": null,
      "outputs": []
    },
    {
      "cell_type": "code",
      "source": [
        "import neal\n",
        "\n",
        "sa = neal.SimulatedAnnealingSampler()\n",
        "sampleset = sa.sample(bqm, num_reads=10)\n",
        "decoded_samples = model.decode_sampleset(sampleset)\n",
        "best_sample = min(decoded_samples, key=lambda x: x.energy)\n",
        "print(best_sample.sample)"
      ],
      "metadata": {
        "colab": {
          "base_uri": "https://localhost:8080/"
        },
        "id": "kR4lwVovltQO",
        "outputId": "3357bc1b-60bc-4209-96fa-92e33ed5e91e"
      },
      "execution_count": null,
      "outputs": [
        {
          "output_type": "stream",
          "name": "stdout",
          "text": [
            "{'s5': 1, 's4': 1, 's3': 1, 's2': 0, 's1': 0}\n"
          ]
        }
      ]
    },
    {
      "cell_type": "code",
      "source": [
        "from pyqubo import Array\n",
        "x = Array.create('x', shape=(2, 3), vartype='BINARY')\n",
        "x[0, 1] + x[1, 2]\n"
      ],
      "metadata": {
        "colab": {
          "base_uri": "https://localhost:8080/"
        },
        "id": "AQUa1sRzl2FF",
        "outputId": "6ee393fa-8529-49ce-c371-bbd7812e0741"
      },
      "execution_count": null,
      "outputs": [
        {
          "output_type": "execute_result",
          "data": {
            "text/plain": [
              "(Binary('x[0][1]') + Binary('x[1][2]'))"
            ]
          },
          "metadata": {},
          "execution_count": 15
        }
      ]
    },
    {
      "cell_type": "code",
      "source": [
        "from pyqubo import Array\n",
        "numbers = [4, 2, 7, 1]\n",
        "s = Array.create('s', shape=4, vartype='SPIN')\n",
        "H = sum(n * s for s, n in zip(s, numbers))**2\n",
        "model = H.compile()\n",
        "qubo, offset = model.to_qubo()\n",
        "print(qubo)"
      ],
      "metadata": {
        "colab": {
          "base_uri": "https://localhost:8080/"
        },
        "id": "7eogWmnymAU3",
        "outputId": "45018797-7205-45aa-9265-1e31d12ca3cc"
      },
      "execution_count": null,
      "outputs": [
        {
          "output_type": "stream",
          "name": "stdout",
          "text": [
            "{('s[2]', 's[2]'): -196.0, ('s[0]', 's[0]'): -160.0, ('s[1]', 's[0]'): 64.0, ('s[2]', 's[1]'): 112.0, ('s[3]', 's[3]'): -52.0, ('s[2]', 's[0]'): 224.0, ('s[3]', 's[1]'): 16.0, ('s[3]', 's[0]'): 32.0, ('s[3]', 's[2]'): 56.0, ('s[1]', 's[1]'): -96.0}\n"
          ]
        }
      ]
    },
    {
      "cell_type": "code",
      "source": [
        "from pyqubo import Binary, Constraint\n",
        "\n"
      ],
      "metadata": {
        "id": "2eyUzDShmP7o"
      },
      "execution_count": null,
      "outputs": []
    },
    {
      "cell_type": "code",
      "source": [
        "pip install timeout_decorator"
      ],
      "metadata": {
        "id": "fgEioDCGgc8s"
      },
      "execution_count": null,
      "outputs": []
    },
    {
      "cell_type": "code",
      "source": [
        "pip install memory_profiler"
      ],
      "metadata": {
        "colab": {
          "base_uri": "https://localhost:8080/"
        },
        "id": "leoYGxMQgkFO",
        "outputId": "c820482f-504d-4cfc-93a0-02a499bd13ad"
      },
      "execution_count": null,
      "outputs": [
        {
          "output_type": "stream",
          "name": "stdout",
          "text": [
            "Collecting memory_profiler\n",
            "  Downloading memory_profiler-0.61.0-py3-none-any.whl (31 kB)\n",
            "Requirement already satisfied: psutil in /usr/local/lib/python3.10/dist-packages (from memory_profiler) (5.9.5)\n",
            "Installing collected packages: memory_profiler\n",
            "Successfully installed memory_profiler-0.61.0\n"
          ]
        }
      ]
    },
    {
      "cell_type": "code",
      "source": [
        "from pyqubo import Array, Constraint, Placeholder\n",
        "import logging\n",
        "import time\n",
        "import argparse\n",
        "import numpy as np\n",
        "from timeout_decorator import timeout, TimeoutError\n",
        "from memory_profiler import memory_usage\n",
        "\n",
        "\n",
        "parser = argparse.ArgumentParser()\n",
        "\n",
        "logging.basicConfig(level=logging.INFO)\n",
        "logger = logging.getLogger(\"benchmark_tsp\")\n"
      ],
      "metadata": {
        "id": "BfDeWqDCeGx2"
      },
      "execution_count": null,
      "outputs": []
    },
    {
      "cell_type": "code",
      "source": [
        "def number_partition_with_timeout(n, timeout_sec):\n",
        "\n",
        "    @timeout(timeout_sec)\n",
        "    def number_partition(n):\n",
        "        t0 = time.time()\n",
        "        s = Array.create('s', n, 'SPIN')\n",
        "        numbers = np.random.randint(0, 10, n)\n",
        "        H = sum([si * ni for si, ni in zip(s, numbers)])**2\n",
        "\n",
        "        #Compile model\n",
        "        t1 = time.time()\n",
        "        model = H.compile()\n",
        "        t2 = time.time()\n",
        "        qubo, offset = model.to_qubo(index_label=False)\n",
        "        t3 = time.time()\n",
        "        print(\"len(qubo)\", len(qubo))\n",
        "\n",
        "        return t1-t0, t2-t1, t3-t2\n",
        "\n",
        "    return number_partition(n)"
      ],
      "metadata": {
        "id": "kme7zYiVeTlY"
      },
      "execution_count": null,
      "outputs": []
    },
    {
      "cell_type": "code",
      "source": [
        "def tsp_with_timeout(n_city, timeout_sec):\n",
        "\n",
        "    @timeout(timeout_sec)\n",
        "    def tsp(n_city):\n",
        "        t0 = time.time()\n",
        "        x = Array.create('c', (n_city, n_city), 'BINARY')\n",
        "        use_for_loop=False\n",
        "\n",
        "        #Constraint not to visit more than two cities at the same time.\n",
        "        time_const = 0.0\n",
        "        for i in range(n_city):\n",
        "            # If you wrap the hamiltonian by Const(...), this part is recognized as constraint\n",
        "            time_const += Constraint((sum(x[i, j] for j in range(n_city)) - 1)**2, label=\"time{}\".format(i))\n",
        "\n",
        "        #Constraint not to visit the same city more than twice.\n",
        "        city_const = 0.0\n",
        "        for j in range(n_city):\n",
        "            city_const += Constraint((sum(x[i, j] for i in range(n_city)) - 1)**2, label=\"city{}\".format(j))\n",
        "\n",
        "        #distance of route\n",
        "        feed_dict = {}\n",
        "\n",
        "        if use_for_loop:\n",
        "            distance = 0.0\n",
        "            for i in range(n_city):\n",
        "                for j in range(n_city):\n",
        "                    for k in range(n_city):\n",
        "                        # we set the constant distance\n",
        "                        d_ij = 10\n",
        "                        distance += d_ij * x[k, i] * x[(k + 1) % n_city, j]\n",
        "\n",
        "        else:\n",
        "            distance = []\n",
        "            for i in range(n_city):\n",
        "                for j in range(n_city):\n",
        "                    for k in range(n_city):\n",
        "                        # we set the constant distance\n",
        "                        d_ij = 10\n",
        "                        distance.append(d_ij * x[k, i] * x[(k + 1) % n_city, j])\n",
        "            distance = sum(distance)\n",
        "\n",
        "        print(\"express done\")\n",
        "\n",
        "        #Construct hamiltonian\n",
        "        A = Placeholder(\"A\")\n",
        "        H = distance\n",
        "\n",
        "        feed_dict[\"A\"] = 1.0\n",
        "\n",
        "        #Compile model\n",
        "        t1 = time.time()\n",
        "        model = H.compile()\n",
        "        t2 = time.time()\n",
        "        qubo, offset = model.to_qubo(index_label=False, feed_dict=feed_dict)\n",
        "        t3 = time.time()\n",
        "\n",
        "        print(\"len(qubo)\", len(qubo))\n",
        "\n",
        "        return t1-t0, t2-t1, t3-t2\n",
        "\n",
        "    return tsp(n_city)"
      ],
      "metadata": {
        "id": "nayTM6h2ecCj"
      },
      "execution_count": null,
      "outputs": []
    },
    {
      "cell_type": "code",
      "source": [
        "def measure(problem, step, init_size, max_size, timeout):\n",
        "    if problem == \"tsp\":\n",
        "        f = tsp_with_timeout\n",
        "    elif problem == \"number_partition\":\n",
        "        f = number_partition_with_timeout\n",
        "\n",
        "    for n in range(init_size, max_size+step, step):\n",
        "        try:\n",
        "            max_memory, (express_time, compile_time, to_qubo_time) = memory_usage((f, (n, timeout)), max_usage=True, retval=True)\n",
        "            logger.info(\"Memory usage is {} MB for n={}\".format(max_memory, n))\n",
        "            logger.info(\"Elapsed time is {} sec (expression: {} sec, compile: {} sec, to_qubo {} sec), for n={}\".format(\n",
        "                express_time+compile_time+to_qubo_time, express_time, compile_time, to_qubo_time, n))\n",
        "\n",
        "        except TimeoutError as e:\n",
        "            logger.error(\"TimeoutError: Elapsed time exceeded {} sec for n_city={}\".format(timeout, n))\n",
        "            break"
      ],
      "metadata": {
        "id": "RCPYwx3sehb3"
      },
      "execution_count": null,
      "outputs": []
    },
    {
      "cell_type": "code",
      "source": [
        "number_partition_with_timeout(1000, timeout_sec=10)\n"
      ],
      "metadata": {
        "colab": {
          "base_uri": "https://localhost:8080/"
        },
        "id": "6b1Ojwvbg1aV",
        "outputId": "eb9a5093-6d93-4e7e-9a55-b701d502f8a8"
      },
      "execution_count": null,
      "outputs": [
        {
          "output_type": "stream",
          "name": "stdout",
          "text": [
            "len(qubo) 407253\n"
          ]
        },
        {
          "output_type": "execute_result",
          "data": {
            "text/plain": [
              "(0.015935897827148438, 0.9582388401031494, 0.8185317516326904)"
            ]
          },
          "metadata": {},
          "execution_count": 20
        }
      ]
    },
    {
      "cell_type": "code",
      "source": [
        "## Run TSP without QUBO"
      ],
      "metadata": {
        "id": "UIDHjfr20G7D"
      },
      "execution_count": null,
      "outputs": []
    },
    {
      "cell_type": "code",
      "source": [
        "import numpy as np\n",
        "from python_tsp.exact import solve_tsp_dynamic_programming\n",
        "import time\n",
        "\n",
        "distance_matrix = np.array([\n",
        " [0 ,5 ,4 ,8 ,8 ,8 ,3 ,3 ,1 ,9 ,4 ,1 ,4 ,4 ,4 ,8 ,3 ,0 ,3 ,2 ,9 ,1 ,2 ,8 ,9 ,3 ,2 ,7 ,8 ,2 ,9 ,2 ,9 ,1 ,5],\n",
        " [5 ,0 ,3 ,1 ,3 ,8 ,1 ,4 ,0 ,8 ,3 ,3 ,0 ,2 ,1 ,1 ,5 ,3 ,1 ,0 ,3 ,7 ,9 ,0 ,4 ,2 ,0 ,9 ,1 ,7 ,1 ,4 ,6 ,0 ,3],\n",
        " [4 ,3 ,0 ,4 ,7 ,6 ,5 ,4 ,9 ,4 ,6 ,3 ,2 ,4 ,2 ,3 ,5 ,6 ,5 ,6 ,0 ,4 ,9 ,3 ,2 ,2 ,7 ,7 ,7 ,9 ,4 ,4 ,2 ,5 ,5],\n",
        " [8 ,1 ,4 ,0 ,7 ,5 ,1 ,3 ,8 ,5 ,1 ,9 ,4 ,9 ,2 ,5 ,0 ,9 ,3 ,7 ,1 ,0 ,6 ,4 ,0 ,1 ,4 ,9 ,6 ,2 ,1 ,3 ,8 ,6 ,3],\n",
        " [8 ,3 ,7 ,7 ,0 ,8 ,5 ,0 ,2 ,3 ,2 ,8 ,9 ,4 ,7 ,5 ,6 ,0 ,8 ,4 ,2 ,5 ,8 ,6 ,3 ,3 ,5 ,4 ,1 ,3 ,8 ,2 ,7 ,0 ,6],\n",
        " [8 ,8 ,6 ,5 ,8 ,0 ,7 ,8 ,1 ,8 ,0 ,5 ,6 ,2 ,5 ,4 ,1 ,5 ,2 ,0 ,9 ,1 ,6 ,6 ,9 ,9 ,9 ,5 ,7 ,0 ,2 ,0 ,1 ,2 ,3],\n",
        " [3 ,1 ,5 ,1 ,5 ,7 ,0 ,6 ,7 ,6 ,6 ,9 ,4 ,4 ,5 ,2 ,5 ,6 ,7 ,3 ,4 ,4 ,1 ,5 ,3 ,1 ,8 ,8 ,4 ,6 ,8 ,7 ,4 ,6 ,8],\n",
        " [3 ,4 ,4 ,3 ,0 ,8 ,6 ,0 ,9 ,0 ,2 ,6 ,4 ,0 ,5 ,9 ,4 ,1 ,1 ,0 ,9 ,0 ,3 ,4 ,7 ,5 ,6 ,1 ,7 ,8 ,0 ,3 ,1 ,3 ,7],\n",
        " [1 ,0 ,9 ,8 ,2 ,1 ,7 ,9 ,0 ,1 ,2 ,7 ,2 ,6 ,1 ,3 ,4 ,3 ,8 ,4 ,7 ,6 ,0 ,4 ,0 ,6 ,6 ,6 ,0 ,0 ,2 ,6 ,1 ,9 ,1],\n",
        " [9 ,8 ,4 ,5 ,3 ,8 ,6 ,0 ,1 ,0 ,2 ,4 ,1 ,5 ,1 ,4 ,7 ,0 ,2 ,8 ,0 ,8 ,0 ,7 ,0 ,2 ,6 ,3 ,0 ,8 ,1 ,9 ,6 ,0 ,2],\n",
        " [4 ,3 ,6 ,1 ,2 ,0 ,6 ,2 ,2 ,2 ,0 ,0 ,7 ,0 ,3 ,0 ,5 ,1 ,8 ,2 ,8 ,2 ,6 ,7 ,2 ,9 ,6 ,4 ,8 ,0 ,4 ,2 ,6 ,1 ,4],\n",
        " [1 ,3 ,3 ,9 ,8 ,5 ,9 ,6 ,7 ,4 ,0 ,0 ,4 ,3 ,0 ,8 ,5 ,6 ,3 ,5 ,2 ,9 ,2 ,9 ,3 ,2 ,6 ,5 ,3 ,0 ,8 ,2 ,1 ,6 ,1],\n",
        " [4 ,0 ,2 ,4 ,9 ,6 ,4 ,4 ,2 ,1 ,7 ,4 ,0 ,3 ,4 ,9 ,0 ,9 ,7 ,8 ,1 ,3 ,2 ,5 ,4 ,5 ,8 ,8 ,9 ,3 ,0 ,6 ,2 ,0 ,2],\n",
        " [4 ,2 ,4 ,9 ,4 ,2 ,4 ,0 ,6 ,5 ,0 ,3 ,3 ,0 ,8 ,5 ,3 ,0 ,6 ,7 ,6 ,5 ,5 ,8 ,9 ,9 ,5 ,5 ,2 ,7 ,4 ,6 ,4 ,4 ,5],\n",
        " [4 ,1 ,2 ,2 ,7 ,5 ,5 ,5 ,1 ,1 ,3 ,0 ,4 ,8 ,0 ,4 ,6 ,1 ,0 ,3 ,5 ,9 ,4 ,1 ,8 ,8 ,7 ,5 ,2 ,9 ,1 ,8 ,9 ,3 ,2],\n",
        " [8 ,1 ,3 ,5 ,5 ,4 ,2 ,9 ,3 ,4 ,0 ,8 ,9 ,5 ,4 ,0 ,9 ,7 ,6 ,3 ,4 ,8 ,5 ,9 ,8 ,8 ,1 ,4 ,7 ,2 ,6 ,6 ,6 ,3 ,8],\n",
        " [3 ,5 ,5 ,0 ,6 ,1 ,5 ,4 ,4 ,7 ,5 ,5 ,0 ,3 ,6 ,9 ,0 ,2 ,4 ,8 ,5 ,3 ,5 ,4 ,9 ,2 ,0 ,0 ,6 ,3 ,4 ,4 ,5 ,1 ,8],\n",
        " [0 ,3 ,6 ,9 ,0 ,5 ,6 ,1 ,3 ,0 ,1 ,6 ,9 ,0 ,1 ,7 ,2 ,0 ,7 ,7 ,8 ,2 ,9 ,9 ,8 ,8 ,0 ,8 ,9 ,2 ,5 ,2 ,5 ,3 ,5],\n",
        " [3 ,1 ,5 ,3 ,8 ,2 ,7 ,1 ,8 ,2 ,8 ,3 ,7 ,6 ,0 ,6 ,4 ,7 ,0 ,2 ,8 ,1 ,0 ,8 ,4 ,3 ,4 ,1 ,7 ,0 ,4 ,6 ,7 ,8 ,3],\n",
        " [2 ,0 ,6 ,7 ,4 ,0 ,3 ,0 ,4 ,8 ,2 ,5 ,8 ,7 ,3 ,3 ,8 ,7 ,2 ,0 ,7 ,1 ,9 ,4 ,0 ,5 ,1 ,5 ,7 ,7 ,7 ,2 ,2 ,5 ,5],\n",
        " [9 ,3 ,0 ,1 ,2 ,9 ,4 ,9 ,7 ,0 ,8 ,2 ,1 ,6 ,5 ,4 ,5 ,8 ,8 ,7 ,0 ,7 ,9 ,4 ,8 ,7 ,7 ,2 ,9 ,8 ,8 ,3 ,7 ,0 ,5],\n",
        " [1 ,7 ,4 ,0 ,5 ,1 ,4 ,0 ,6 ,8 ,2 ,9 ,3 ,5 ,9 ,8 ,3 ,2 ,1 ,1 ,7 ,0 ,7 ,0 ,4 ,5 ,4 ,2 ,3 ,2 ,0 ,6 ,8 ,8 ,1],\n",
        " [2 ,9 ,9 ,6 ,8 ,6 ,1 ,3 ,0 ,0 ,6 ,2 ,2 ,5 ,4 ,5 ,5 ,9 ,0 ,9 ,9 ,7 ,0 ,1 ,4 ,5 ,6 ,8 ,6 ,1 ,6 ,0 ,3 ,7 ,2],\n",
        " [8 ,0 ,3 ,4 ,6 ,6 ,5 ,4 ,4 ,7 ,7 ,9 ,5 ,8 ,1 ,9 ,4 ,9 ,8 ,4 ,4 ,0 ,1 ,0 ,2 ,7 ,3 ,8 ,1 ,3 ,1 ,9 ,5 ,6 ,2],\n",
        " [9 ,4 ,2 ,0 ,3 ,9 ,3 ,7 ,0 ,0 ,2 ,3 ,4 ,9 ,8 ,8 ,9 ,8 ,4 ,0 ,8 ,4 ,4 ,2 ,0 ,4 ,6 ,1 ,4 ,3 ,5 ,4 ,9 ,8 ,8],\n",
        " [3 ,2 ,2 ,1 ,3 ,9 ,1 ,5 ,6 ,2 ,9 ,2 ,5 ,9 ,8 ,8 ,2 ,8 ,3 ,5 ,7 ,5 ,5 ,7 ,4 ,0 ,8 ,8 ,5 ,2 ,0 ,3 ,4 ,5 ,5],\n",
        " [2 ,0 ,7 ,4 ,5 ,9 ,8 ,6 ,6 ,6 ,6 ,6 ,8 ,5 ,7 ,1 ,0 ,0 ,4 ,1 ,7 ,4 ,6 ,3 ,6 ,8 ,0 ,6 ,1 ,4 ,5 ,5 ,9 ,4 ,3],\n",
        " [7 ,9 ,7 ,9 ,4 ,5 ,8 ,1 ,6 ,3 ,4 ,5 ,8 ,5 ,5 ,4 ,0 ,8 ,1 ,5 ,2 ,2 ,8 ,8 ,1 ,8 ,6 ,0 ,1 ,4 ,0 ,0 ,8 ,4 ,2],\n",
        " [8 ,1 ,7 ,6 ,1 ,7 ,4 ,7 ,0 ,0 ,8 ,3 ,9 ,2 ,2 ,7 ,6 ,9 ,7 ,7 ,9 ,3 ,6 ,1 ,4 ,5 ,1 ,1 ,0 ,0 ,2 ,8 ,0 ,6 ,5],\n",
        " [2 ,7 ,9 ,2 ,3 ,0 ,6 ,8 ,0 ,8 ,0 ,0 ,3 ,7 ,9 ,2 ,3 ,2 ,0 ,7 ,8 ,2 ,1 ,3 ,3 ,2 ,4 ,4 ,0 ,0 ,2 ,8 ,1 ,1 ,1],\n",
        " [9 ,1 ,4 ,1 ,8 ,2 ,8 ,0 ,2 ,1 ,4 ,8 ,0 ,4 ,1 ,6 ,4 ,5 ,4 ,7 ,8 ,0 ,6 ,1 ,5 ,0 ,5 ,0 ,2 ,2 ,0 ,3 ,5 ,6 ,0],\n",
        " [2 ,4 ,4 ,3 ,2 ,0 ,7 ,3 ,6 ,9 ,2 ,2 ,6 ,6 ,8 ,6 ,4 ,2 ,6 ,2 ,3 ,6 ,0 ,9 ,4 ,3 ,5 ,0 ,8 ,8 ,3 ,0 ,7 ,0 ,2],\n",
        " [9 ,6 ,2 ,8 ,7 ,1 ,4 ,1 ,1 ,6 ,6 ,1 ,2 ,4 ,9 ,6 ,5 ,5 ,7 ,2 ,7 ,8 ,3 ,5 ,9 ,4 ,9 ,8 ,0 ,1 ,5 ,7 ,0 ,2 ,6],\n",
        " [1 ,0 ,5 ,6 ,0 ,2 ,6 ,3 ,9 ,0 ,1 ,6 ,0 ,4 ,3 ,3 ,1 ,3 ,8 ,5 ,0 ,8 ,7 ,6 ,8 ,5 ,4 ,4 ,6 ,1 ,6 ,0 ,2 ,0 ,9],\n",
        " [5 ,3 ,5 ,3 ,6 ,3 ,8 ,7 ,1 ,2 ,4 ,1 ,2 ,5 ,2 ,8 ,8 ,5 ,3 ,5 ,5 ,1 ,2 ,2 ,8 ,5 ,3 ,2 ,5 ,1 ,0 ,2 ,6 ,9 ,0],\n",
        "])"
      ],
      "metadata": {
        "id": "UIoV75zEUuCi"
      },
      "execution_count": null,
      "outputs": []
    },
    {
      "cell_type": "code",
      "source": [
        "start_dp = time.time()\n",
        "permutation, distance = solve_tsp_dynamic_programming(distance_matrix)\n",
        "time_elapsed_dp = time.time() - start_dp"
      ],
      "metadata": {
        "id": "zBia0XIpVSFR"
      },
      "execution_count": null,
      "outputs": []
    },
    {
      "cell_type": "code",
      "source": [
        "distance"
      ],
      "metadata": {
        "colab": {
          "base_uri": "https://localhost:8080/"
        },
        "id": "-yvcLQsIVWz9",
        "outputId": "05cbccdc-5db2-42e5-b012-def79aa1cb05"
      },
      "execution_count": null,
      "outputs": [
        {
          "output_type": "execute_result",
          "data": {
            "text/plain": [
              "17"
            ]
          },
          "metadata": {},
          "execution_count": 26
        }
      ]
    },
    {
      "cell_type": "code",
      "source": [
        "time_elapsed_dp"
      ],
      "metadata": {
        "id": "mkaPX6jcIx6J"
      },
      "execution_count": null,
      "outputs": []
    },
    {
      "cell_type": "code",
      "source": [
        "from python_tsp.heuristics import solve_tsp_simulated_annealing"
      ],
      "metadata": {
        "id": "6qlavXlbUwxg"
      },
      "execution_count": null,
      "outputs": []
    },
    {
      "cell_type": "code",
      "source": [
        "start_sa = time.time()\n",
        "permutation, distance = solve_tsp_simulated_annealing(distance_matrix)\n",
        "time_elapsed_sa = time.time() - start_sa"
      ],
      "metadata": {
        "id": "HA-j2FEjVTZ7"
      },
      "execution_count": null,
      "outputs": []
    },
    {
      "cell_type": "code",
      "source": [
        "permutation"
      ],
      "metadata": {
        "colab": {
          "base_uri": "https://localhost:8080/"
        },
        "id": "tRga63kwQuf3",
        "outputId": "61f48744-4bdb-47d1-97f9-4c249bad3984"
      },
      "execution_count": null,
      "outputs": [
        {
          "output_type": "execute_result",
          "data": {
            "text/plain": [
              "[0,\n",
              " 17,\n",
              " 13,\n",
              " 10,\n",
              " 15,\n",
              " 26,\n",
              " 16,\n",
              " 27,\n",
              " 28,\n",
              " 32,\n",
              " 29,\n",
              " 8,\n",
              " 22,\n",
              " 31,\n",
              " 5,\n",
              " 19,\n",
              " 24,\n",
              " 9,\n",
              " 7,\n",
              " 4,\n",
              " 33,\n",
              " 20,\n",
              " 2,\n",
              " 23,\n",
              " 1,\n",
              " 12,\n",
              " 30,\n",
              " 34,\n",
              " 11,\n",
              " 14,\n",
              " 18,\n",
              " 21,\n",
              " 3,\n",
              " 6,\n",
              " 25]"
            ]
          },
          "metadata": {},
          "execution_count": 27
        }
      ]
    },
    {
      "cell_type": "code",
      "source": [
        "distance"
      ],
      "metadata": {
        "colab": {
          "base_uri": "https://localhost:8080/"
        },
        "id": "KU1KNpq2VY_b",
        "outputId": "07757c51-94b9-42a7-b1f5-a14d8f88dadc"
      },
      "execution_count": null,
      "outputs": [
        {
          "output_type": "execute_result",
          "data": {
            "text/plain": [
              "13"
            ]
          },
          "metadata": {},
          "execution_count": 28
        }
      ]
    },
    {
      "cell_type": "code",
      "source": [
        "time_elapsed_sa"
      ],
      "metadata": {
        "colab": {
          "base_uri": "https://localhost:8080/"
        },
        "id": "slERfv32IvS9",
        "outputId": "6c1ed7ef-89b9-4e64-ee0d-4fdede333e0e"
      },
      "execution_count": null,
      "outputs": [
        {
          "output_type": "execute_result",
          "data": {
            "text/plain": [
              "0.5431699752807617"
            ]
          },
          "metadata": {},
          "execution_count": 29
        }
      ]
    },
    {
      "cell_type": "code",
      "source": [
        "import time\n",
        "\n",
        "def isSubsetSum(arr, n, sum):\n",
        "\t# Base Cases\n",
        "\tif sum == 0:\n",
        "\t\treturn True\n",
        "\tif n == 0 and sum != 0:\n",
        "\t\treturn False\n",
        "\n",
        "\t# If last element is greater than sum, then\n",
        "\t# ignore it\n",
        "\tif arr[n-1] > sum:\n",
        "\t\treturn isSubsetSum(arr, n-1, sum)\n",
        "\n",
        "\t''' else, check if sum can be obtained by any of\n",
        "\tthe following\n",
        "\t(a) including the last element\n",
        "\t(b) excluding the last element'''\n",
        "\n",
        "\treturn isSubsetSum(arr, n-1, sum) or isSubsetSum(arr, n-1, sum-arr[n-1])\n",
        "\n",
        "# Returns true if arr[] can be partitioned in two\n",
        "# subsets of equal sum, otherwise false\n",
        "\n",
        "\n",
        "def findPartion(arr, n):\n",
        "\t# Calculate sum of the elements in array\n",
        "\tsum = 0\n",
        "\tfor i in range(0, n):\n",
        "\t\tsum += arr[i]\n",
        "\t# If sum is odd, there cannot be two subsets\n",
        "\t# with equal sum\n",
        "\tif sum % 2 != 0:\n",
        "\t\treturn false\n",
        "\n",
        "\t# Find if there is subset with sum equal to\n",
        "\t# half of total sum\n",
        "\treturn isSubsetSum(arr, n, sum // 2)\n",
        "\n",
        "\n",
        "# Driver code\n",
        "if __name__ == '__main__':\n",
        "  arr = [9 ,1 ,4 ,1 ,8 ,2 ,8 ,0 ,2 ,1 ,4 ,8 ,0 ,4 ,1 ,6 ,4 ,5 ,4 ,7 ,8 ,0 ,6 ,1 ,5 ,0 ,5 ,0 ,2 ,2 ,0 ,3 ,5 ,6 ,0]\n",
        "  n = len(arr)\n",
        "\n",
        "# Function call\n",
        "start_np = time.time()\n",
        "if findPartion(arr, n) == True:\n",
        "\tprint(\"Can be divided into two subsets of equal sum\")\n",
        "else:\n",
        "\tprint(\"Can not be divided into two subsets of equal sum\")\n",
        "time_elapsed_np = time.time() - start_np\n"
      ],
      "metadata": {
        "colab": {
          "base_uri": "https://localhost:8080/"
        },
        "id": "LE3fEaD9BL9d",
        "outputId": "d1ea44fe-3818-4d83-fb51-8448fed8d245"
      },
      "execution_count": null,
      "outputs": [
        {
          "output_type": "stream",
          "name": "stdout",
          "text": [
            "Can be divided into two subsets of equal sum\n"
          ]
        }
      ]
    },
    {
      "cell_type": "code",
      "source": [
        "time_elapsed_np"
      ],
      "metadata": {
        "colab": {
          "base_uri": "https://localhost:8080/"
        },
        "id": "lDVWihK9NXft",
        "outputId": "75d8f177-6059-4dee-b77e-7d3e4c0df1a3"
      },
      "execution_count": null,
      "outputs": [
        {
          "output_type": "execute_result",
          "data": {
            "text/plain": [
              "0.1002345085144043"
            ]
          },
          "metadata": {},
          "execution_count": 6
        }
      ]
    },
    {
      "cell_type": "code",
      "source": [
        "# Returns true if arr[] can be\n",
        "# partitioned in two subsets of\n",
        "# equal sum, otherwise false\n",
        "\n",
        "\n",
        "def findPartition(arr, n):\n",
        "\tsum = 0\n",
        "\ti, j = 0, 0\n",
        "\n",
        "\t# calculate sum of all elements\n",
        "\tfor i in range(n):\n",
        "\t\tsum += arr[i]\n",
        "\n",
        "\tif sum % 2 != 0:\n",
        "\t\treturn false\n",
        "\n",
        "\tpart = [[True for i in range(n + 1)]\n",
        "\t\t\tfor j in range(sum // 2 + 1)]\n",
        "\n",
        "\t# initialize top row as true\n",
        "\tfor i in range(0, n + 1):\n",
        "\t\tpart[0][i] = True\n",
        "\n",
        "\t# initialize leftmost column,\n",
        "\t# except part[0][0], as 0\n",
        "\tfor i in range(1, sum // 2 + 1):\n",
        "\t\tpart[i][0] = False\n",
        "\n",
        "\t# fill the partition table in\n",
        "\t# bottom up manner\n",
        "\tfor i in range(1, sum // 2 + 1):\n",
        "\n",
        "\t\tfor j in range(1, n + 1):\n",
        "\t\t\tpart[i][j] = part[i][j - 1]\n",
        "\n",
        "\t\t\tif i >= arr[j - 1]:\n",
        "\t\t\t\tpart[i][j] = (part[i][j] or\n",
        "\t\t\t\t\t\t\tpart[i - arr[j - 1]][j - 1])\n",
        "\n",
        "\treturn part[sum // 2][n]\n",
        "\n",
        "\n",
        "# Driver Code\n",
        "arr = [9 ,1 ,4 ,1 ,8 ,2 ,8 ,0 ,2 ,1 ,4 ,8 ,0 ,4 ,1 ,6 ,4 ,5 ,4 ,7 ,8 ,0 ,6 ,1 ,5 ,0 ,5 ,0 ,2 ,2 ,0 ,3 ,5 ,6 ,0]\n",
        "n = len(arr)\n",
        "\n",
        "# Function call\n",
        "start_np_dp = time.time()\n",
        "if findPartition(arr, n) == True:\n",
        "\tprint(\"Can be divided into two\",\n",
        "\t\t\"subsets of equal sum\")\n",
        "else:\n",
        "\tprint(\"Can not be divided into \",\n",
        "\t\t\"two subsets of equal sum\")\n",
        "time_elapsed_np_dp = time.time() - start_np_dp\n",
        "\n",
        "\n"
      ],
      "metadata": {
        "colab": {
          "base_uri": "https://localhost:8080/"
        },
        "id": "Pm6f3bo8BVQd",
        "outputId": "6442f9e8-3b6d-4ad5-b154-58ddfe4a7a67"
      },
      "execution_count": null,
      "outputs": [
        {
          "output_type": "stream",
          "name": "stdout",
          "text": [
            "Can be divided into two subsets of equal sum\n"
          ]
        }
      ]
    },
    {
      "cell_type": "code",
      "source": [
        "time_elapsed_np_dp"
      ],
      "metadata": {
        "colab": {
          "base_uri": "https://localhost:8080/"
        },
        "id": "V3PpNtQEOQBK",
        "outputId": "cdcb35bc-6c22-421e-c65f-ddcdcbfc31f2"
      },
      "execution_count": null,
      "outputs": [
        {
          "output_type": "execute_result",
          "data": {
            "text/plain": [
              "0.0018284320831298828"
            ]
          },
          "metadata": {},
          "execution_count": 13
        }
      ]
    }
  ]
}